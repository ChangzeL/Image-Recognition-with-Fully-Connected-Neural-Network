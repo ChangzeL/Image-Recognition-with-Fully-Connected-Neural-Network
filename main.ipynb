{
 "cells": [
  {
   "cell_type": "code",
   "execution_count": null,
   "metadata": {},
   "outputs": [],
   "source": [
    "import neural_network_quieter as nn\n",
    "import mnist_standardized as data\n",
    "\n",
    "nn.train(data.X_train, data.Y_train, data.X_test, data.Y_test,\n",
    "         n_hidden_nodes=1200, epochs=60, batch_size=600, lr=0.8)\n"
   ]
  }
 ],
 "metadata": {
  "language_info": {
   "name": "python"
  }
 },
 "nbformat": 4,
 "nbformat_minor": 2
}
